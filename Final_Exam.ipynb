{
  "nbformat": 4,
  "nbformat_minor": 0,
  "metadata": {
    "colab": {
      "name": "Final Exam.ipynb",
      "provenance": [],
      "authorship_tag": "ABX9TyNyjOPzQ8rlrMZi3GBm5Sjk",
      "include_colab_link": true
    },
    "kernelspec": {
      "name": "python3",
      "display_name": "Python 3"
    },
    "language_info": {
      "name": "python"
    }
  },
  "cells": [
    {
      "cell_type": "markdown",
      "metadata": {
        "id": "view-in-github",
        "colab_type": "text"
      },
      "source": [
        "<a href=\"https://colab.research.google.com/github/aymm51/CPEN-21A-ECE-2-2/blob/main/Final_Exam.ipynb\" target=\"_parent\"><img src=\"https://colab.research.google.com/assets/colab-badge.svg\" alt=\"Open In Colab\"/></a>"
      ]
    },
    {
      "cell_type": "markdown",
      "source": [
        "PROBLEM STATEMENT 1."
      ],
      "metadata": {
        "id": "mjWMOrS5Qmhg"
      }
    },
    {
      "cell_type": "code",
      "source": [
        "#Create a Python program that will produce an output of sum of 10 numbers less than 5 using FOR LOOP. (30 points)\n",
        "\n",
        "n = int(input(\"Emter number:\"))\n",
        "sum = 0\n",
        "\n",
        "#loop from -5 to n\n",
        "for num in range (-5 , n):\n",
        "  sum = sum + num\n",
        "  \n",
        "print (\"Sum of 10 numbers less than\", n ,  \"is:\", sum)"
      ],
      "metadata": {
        "colab": {
          "base_uri": "https://localhost:8080/"
        },
        "id": "ItnTVFS3QpgO",
        "outputId": "b3bc8519-d5fa-4b76-b2ed-7b8d99601029"
      },
      "execution_count": 1,
      "outputs": [
        {
          "output_type": "stream",
          "name": "stdout",
          "text": [
            "Emter number:5\n",
            "Sum of 10 numbers less than 5 is: -5\n"
          ]
        }
      ]
    },
    {
      "cell_type": "markdown",
      "source": [
        "PROBLEM STATEMENT 2. "
      ],
      "metadata": {
        "id": "T6bgRGKcRR1F"
      }
    },
    {
      "cell_type": "code",
      "source": [
        "#Create a Python program that will produce accept five numbers and determine the sum of first and last number among the five numbers entered using WHILE LOOP. (35 points)\n",
        "\n",
        "num = 1;\n",
        "data = {};\n",
        "\n",
        "while (num <= 5):\n",
        "  i = str(num);\n",
        "  data[num] = input (\"Enter number:\")\n",
        "\n",
        "  print (\"Value for Number \" + i + \" is: \" + data[num])\n",
        "  num += 1\n",
        "\n",
        "  if (num==6):\n",
        "    sum = float(data[1])+float(data[5])\n",
        "    \n",
        "print (\"The sum of the first and last number is: \" + str(sum))"
      ],
      "metadata": {
        "colab": {
          "base_uri": "https://localhost:8080/"
        },
        "id": "s14OX0gmRURN",
        "outputId": "b084dddd-7519-4900-ef32-a14bf8341c50"
      },
      "execution_count": 3,
      "outputs": [
        {
          "output_type": "stream",
          "name": "stdout",
          "text": [
            "Enter number:5\n",
            "Value for Number 1 is: 5\n",
            "Enter number:4\n",
            "Value for Number 2 is: 4\n",
            "Enter number:3\n",
            "Value for Number 3 is: 3\n",
            "Enter number:2\n",
            "Value for Number 4 is: 2\n",
            "Enter number:1\n",
            "Value for Number 5 is: 1\n",
            "The sum of the first and last number is: 6.0\n"
          ]
        }
      ]
    },
    {
      "cell_type": "markdown",
      "source": [
        "PROBLEM STATEMENT 3."
      ],
      "metadata": {
        "id": "YdIY4bbcRvZX"
      }
    },
    {
      "cell_type": "code",
      "source": [
        "#Create a Python program to calculate student grades. It accepts a numerical grade as input and it will display the character grade as output based on the given scale: (Use Nested-IF-Else statement) (35 points)\n",
        "\n",
        "grade = int(input(\"Grade:\"))\n",
        "\n",
        "if grade>=90:\n",
        "  print (\"A\")\n",
        "elif grade>=80:\n",
        "  print (\"B\")\n",
        "elif grade>=70:\n",
        "  print (\"C\")\n",
        "elif grade>=60:\n",
        "  print (\"D\")\n",
        "else:\n",
        "  print (\"F\")"
      ],
      "metadata": {
        "colab": {
          "base_uri": "https://localhost:8080/"
        },
        "id": "8hZFxT1uRxeM",
        "outputId": "33df20ea-db3c-4e21-c192-7d87c0e7fb8f"
      },
      "execution_count": 5,
      "outputs": [
        {
          "output_type": "stream",
          "name": "stdout",
          "text": [
            "Grade:85\n",
            "B\n"
          ]
        }
      ]
    }
  ]
}