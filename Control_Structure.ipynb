{
  "nbformat": 4,
  "nbformat_minor": 0,
  "metadata": {
    "colab": {
      "name": "Control Structure",
      "provenance": [],
      "authorship_tag": "ABX9TyMEuOBW1yURlE2YEJ7jpACV",
      "include_colab_link": true
    },
    "kernelspec": {
      "name": "python3",
      "display_name": "Python 3"
    },
    "language_info": {
      "name": "python"
    }
  },
  "cells": [
    {
      "cell_type": "markdown",
      "metadata": {
        "id": "view-in-github",
        "colab_type": "text"
      },
      "source": [
        "<a href=\"https://colab.research.google.com/github/aymm51/CPEN-21A-ECE-2-2/blob/main/Control_Structure.ipynb\" target=\"_parent\"><img src=\"https://colab.research.google.com/assets/colab-badge.svg\" alt=\"Open In Colab\"/></a>"
      ]
    },
    {
      "cell_type": "code",
      "metadata": {
        "id": "v-vTNSg8zLbn"
      },
      "source": [
        ""
      ],
      "execution_count": null,
      "outputs": []
    },
    {
      "cell_type": "markdown",
      "metadata": {
        "id": "Qd43antQ__8P"
      },
      "source": [
        "##If Statement"
      ]
    },
    {
      "cell_type": "code",
      "metadata": {
        "colab": {
          "base_uri": "https://localhost:8080/"
        },
        "id": "pnunFHwjAEUY",
        "outputId": "a6aaae6e-0a1c-4e04-8eae-d28410d77e0b"
      },
      "source": [
        "a = 12\n",
        "b = 100\n",
        "if b>a:\n",
        "  print(\"b is greater than a\")"
      ],
      "execution_count": 1,
      "outputs": [
        {
          "output_type": "stream",
          "name": "stdout",
          "text": [
            "b is greater than a\n"
          ]
        }
      ]
    },
    {
      "cell_type": "markdown",
      "metadata": {
        "id": "83r65QlOAYVi"
      },
      "source": [
        "##Elif Statement"
      ]
    },
    {
      "cell_type": "code",
      "metadata": {
        "colab": {
          "base_uri": "https://localhost:8080/"
        },
        "id": "pdH9k17SAa3O",
        "outputId": "6146de3a-5ddd-48a4-c4e1-f60fda5fe377"
      },
      "source": [
        "a = 12\n",
        "b = 100\n",
        "if b<a:\n",
        "  print(\"b is less than a\")\n",
        "elif b>a:\n",
        "  print(\"b is greater than a\")"
      ],
      "execution_count": 2,
      "outputs": [
        {
          "output_type": "stream",
          "name": "stdout",
          "text": [
            "b is greater than a\n"
          ]
        }
      ]
    },
    {
      "cell_type": "markdown",
      "metadata": {
        "id": "BFZbGaBZAy0k"
      },
      "source": [
        "##Else Statement"
      ]
    },
    {
      "cell_type": "code",
      "metadata": {
        "colab": {
          "base_uri": "https://localhost:8080/"
        },
        "id": "Ij7RYmj4BFz7",
        "outputId": "1f987ea5-9c8f-44b6-b357-4f20867b3e71"
      },
      "source": [
        "a = 12\n",
        "b = 12\n",
        "if b<a:\n",
        "  print(\"b is less than a\")\n",
        "elif b>a:\n",
        "  print(\"b is greater than a\")\n",
        "else:\n",
        "  print(\"a is equal to b\")"
      ],
      "execution_count": 3,
      "outputs": [
        {
          "output_type": "stream",
          "name": "stdout",
          "text": [
            "a is equal to b\n"
          ]
        }
      ]
    },
    {
      "cell_type": "markdown",
      "metadata": {
        "id": "NZeQosZqB8p4"
      },
      "source": [
        "##Short Hand If...Else Statement"
      ]
    },
    {
      "cell_type": "code",
      "metadata": {
        "colab": {
          "base_uri": "https://localhost:8080/"
        },
        "id": "DBlyhf4rCBm1",
        "outputId": "d67e199e-3074-4dc0-f137-51ea3164aa9e"
      },
      "source": [
        "a = 2\n",
        "b = 330\n",
        "print (\"A\") if a>b else print (\"B\")"
      ],
      "execution_count": 4,
      "outputs": [
        {
          "output_type": "stream",
          "name": "stdout",
          "text": [
            "B\n"
          ]
        }
      ]
    },
    {
      "cell_type": "code",
      "metadata": {
        "colab": {
          "base_uri": "https://localhost:8080/"
        },
        "id": "y9oj0ldXCR7d",
        "outputId": "1aab9584-bbfd-448f-c69c-a1850b6b7611"
      },
      "source": [
        "a = 430\n",
        "b = 330\n",
        "print (\"A\") if a>b else print (\"B\")"
      ],
      "execution_count": 5,
      "outputs": [
        {
          "output_type": "stream",
          "name": "stdout",
          "text": [
            "A\n"
          ]
        }
      ]
    },
    {
      "cell_type": "markdown",
      "metadata": {
        "id": "SObgIU5RCel4"
      },
      "source": [
        "##And Condition"
      ]
    },
    {
      "cell_type": "code",
      "metadata": {
        "colab": {
          "base_uri": "https://localhost:8080/"
        },
        "id": "-8vZ_6Z6CgQn",
        "outputId": "661f2b0f-190e-4122-f3f5-ac07ef6fbced"
      },
      "source": [
        "a = 200\n",
        "b = 33\n",
        "c = 500\n",
        "if a>b and a<c:\n",
        "  print (\"The conditions need to be True\")"
      ],
      "execution_count": 6,
      "outputs": [
        {
          "output_type": "stream",
          "name": "stdout",
          "text": [
            "The conditions need to be True\n"
          ]
        }
      ]
    },
    {
      "cell_type": "markdown",
      "metadata": {
        "id": "AC_10GivCxDS"
      },
      "source": [
        "##Or Condition"
      ]
    },
    {
      "cell_type": "code",
      "metadata": {
        "colab": {
          "base_uri": "https://localhost:8080/"
        },
        "id": "ynyiQpnPC0Lj",
        "outputId": "4f649ba8-2886-4599-9994-255144843307"
      },
      "source": [
        "a = 200\n",
        "b = 33\n",
        "c = 500\n",
        "if a>b or a<c:\n",
        "  print (\"One of the conditions are True\")"
      ],
      "execution_count": 7,
      "outputs": [
        {
          "output_type": "stream",
          "name": "stdout",
          "text": [
            "One of the conditions are True\n"
          ]
        }
      ]
    },
    {
      "cell_type": "markdown",
      "metadata": {
        "id": "zLnVuMKfDBxr"
      },
      "source": [
        "##Nested If"
      ]
    },
    {
      "cell_type": "code",
      "metadata": {
        "colab": {
          "base_uri": "https://localhost:8080/"
        },
        "id": "VCf5jY93DExE",
        "outputId": "5b640ff1-d2a6-42a3-d408-c4869753b8f1"
      },
      "source": [
        "a = 41\n",
        "\n",
        "if a>10:\n",
        "  print (\"Above 10\")\n",
        "if a>20:\n",
        "  print (\"Above 20\")\n",
        "else:\n",
        "  print (\"Not above 20\")"
      ],
      "execution_count": 8,
      "outputs": [
        {
          "output_type": "stream",
          "name": "stdout",
          "text": [
            "Above 10\n",
            "Above 20\n"
          ]
        }
      ]
    },
    {
      "cell_type": "code",
      "metadata": {
        "colab": {
          "base_uri": "https://localhost:8080/"
        },
        "id": "iWXTa3UNDX4M",
        "outputId": "c6b62821-8787-4a1d-993f-725090e96ea8"
      },
      "source": [
        "a = 4\n",
        "\n",
        "if a>10:\n",
        "  print (\"Above 10\")\n",
        "  if a>20:\n",
        "    print (\"Above 20\")\n",
        "  else:\n",
        "    print (\"Not above 20\")\n",
        "else:\n",
        "  print (\"Below 10\")"
      ],
      "execution_count": 21,
      "outputs": [
        {
          "output_type": "stream",
          "name": "stdout",
          "text": [
            "Below 10\n"
          ]
        }
      ]
    },
    {
      "cell_type": "markdown",
      "metadata": {
        "id": "o_sYUt6hE_h5"
      },
      "source": [
        "##Example 1\n",
        "Write a program that determines if the input age is qualified to vote or not. The qualifying age is 18 years old and above."
      ]
    },
    {
      "cell_type": "code",
      "metadata": {
        "colab": {
          "base_uri": "https://localhost:8080/"
        },
        "id": "kIXhQsvxFOfo",
        "outputId": "9aa757e3-e91c-42f8-faa4-d7dde7bae24c"
      },
      "source": [
        "age = 18\n",
        "\n",
        "if age>=18:\n",
        "  print (\"You are qualified to vote\")\n",
        "else:\n",
        "  print (\"You are not qualified to vote\")"
      ],
      "execution_count": 22,
      "outputs": [
        {
          "output_type": "stream",
          "name": "stdout",
          "text": [
            "You are qualified to vote\n"
          ]
        }
      ]
    },
    {
      "cell_type": "markdown",
      "metadata": {
        "id": "c8QeYSusFgpw"
      },
      "source": [
        "##Example 2\n",
        "Write a program that determines if the input number is POSITIVE or NEGATIVE. Consider 0 as positive (considering that it contains no negative sign)."
      ]
    },
    {
      "cell_type": "code",
      "metadata": {
        "colab": {
          "base_uri": "https://localhost:8080/"
        },
        "id": "js4FPT55FzbC",
        "outputId": "a01a74a0-700d-4841-d57c-a38c838608ed"
      },
      "source": [
        "number = int(input(\"Enter a number:\"))\n",
        "if number>0:\n",
        "  print (\"You entered a positive number\")\n",
        "elif number==0:\n",
        "  print ( \"You entered 0\")\n",
        "else:\n",
        "  print (\"You entered a negative number\")"
      ],
      "execution_count": 27,
      "outputs": [
        {
          "output_type": "stream",
          "name": "stdout",
          "text": [
            "Enter a number:-10\n",
            "You entered a negative number\n"
          ]
        }
      ]
    },
    {
      "cell_type": "markdown",
      "metadata": {
        "id": "mCeRT9IRGzzS"
      },
      "source": [
        "##Example 3\n",
        "Write a program to determine if the grades are:\n",
        "\n",
        "    If:\n",
        "        grade>=75, \"Passed\"\n",
        "        grade=74, \"Remedial\"\n",
        "        grade<74, \"Failed\""
      ]
    },
    {
      "cell_type": "code",
      "metadata": {
        "colab": {
          "base_uri": "https://localhost:8080/"
        },
        "id": "QjdCcaESHX_8",
        "outputId": "c51441e4-98c4-4e28-ace5-5687865d0276"
      },
      "source": [
        "grade = int(input(\"Enter your grade:\"))\n",
        "if grade>=75:\n",
        "  print (\"You passed.\")\n",
        "elif grade==74:\n",
        "  print (\"You have to take a Remedial.\")\n",
        "else:\n",
        "  print (\"You failed.\")"
      ],
      "execution_count": 32,
      "outputs": [
        {
          "output_type": "stream",
          "name": "stdout",
          "text": [
            "Enter your grade:80\n",
            "You passed.\n"
          ]
        }
      ]
    }
  ]
}