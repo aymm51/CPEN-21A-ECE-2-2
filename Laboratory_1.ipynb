{
  "nbformat": 4,
  "nbformat_minor": 0,
  "metadata": {
    "colab": {
      "name": "Laboratory 1",
      "provenance": [],
      "authorship_tag": "ABX9TyPiseVHrJZEhyRlurV4G1RQ",
      "include_colab_link": true
    },
    "kernelspec": {
      "name": "python3",
      "display_name": "Python 3"
    },
    "language_info": {
      "name": "python"
    }
  },
  "cells": [
    {
      "cell_type": "markdown",
      "metadata": {
        "id": "view-in-github",
        "colab_type": "text"
      },
      "source": [
        "<a href=\"https://colab.research.google.com/github/aymm51/CPEN-21A-ECE-2-2/blob/main/Laboratory_1.ipynb\" target=\"_parent\"><img src=\"https://colab.research.google.com/assets/colab-badge.svg\" alt=\"Open In Colab\"/></a>"
      ]
    },
    {
      "cell_type": "code",
      "metadata": {
        "colab": {
          "base_uri": "https://localhost:8080/"
        },
        "id": "ByPYeG4Mm9ns",
        "outputId": "11d52657-c67f-4182-9392-363ca282ae5d"
      },
      "source": [
        "print (\"Welcome to Python Programming\")\n",
        "x='Name:'\n",
        "y=' Ayessa Yanicka M. Marasigan'\n",
        "print (x+y)\n",
        "p='Address:'\n",
        "q=' Purok 30, Brgy. Francisco, Tagaytay City'\n",
        "print (p+q)\n",
        "a, b, y=\"Age:\", \" 19\", \" years old\"\n",
        "print (a+b+y)"
      ],
      "execution_count": 6,
      "outputs": [
        {
          "output_type": "stream",
          "name": "stdout",
          "text": [
            "Welcome to Python Programming\n",
            "Name: Ayessa Yanicka M. Marasigan\n",
            "Address: Purok 30, Brgy. Francisco, Tagaytay City\n",
            "Age: 19 years old\n"
          ]
        }
      ]
    }
  ]
}