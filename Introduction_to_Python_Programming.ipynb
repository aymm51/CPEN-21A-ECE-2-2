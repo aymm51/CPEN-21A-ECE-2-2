{
  "nbformat": 4,
  "nbformat_minor": 0,
  "metadata": {
    "colab": {
      "name": "Introduction to Python Programming",
      "provenance": [],
      "authorship_tag": "ABX9TyPD/8SDSU/UNIiVd+RVI9rl",
      "include_colab_link": true
    },
    "kernelspec": {
      "name": "python3",
      "display_name": "Python 3"
    },
    "language_info": {
      "name": "python"
    }
  },
  "cells": [
    {
      "cell_type": "markdown",
      "metadata": {
        "id": "view-in-github",
        "colab_type": "text"
      },
      "source": [
        "<a href=\"https://colab.research.google.com/github/aymm51/CPEN-ECE-2-2/blob/main/Introduction_to_Python_Programming.ipynb\" target=\"_parent\"><img src=\"https://colab.research.google.com/assets/colab-badge.svg\" alt=\"Open In Colab\"/></a>"
      ]
    },
    {
      "cell_type": "code",
      "metadata": {
        "colab": {
          "base_uri": "https://localhost:8080/"
        },
        "id": "d91x3mWOi1cf",
        "outputId": "c84d10b9-20cf-448e-9bf6-fbbe5a759e28"
      },
      "source": [
        "print(\"Welcome to Python Programming\")"
      ],
      "execution_count": 3,
      "outputs": [
        {
          "output_type": "stream",
          "name": "stdout",
          "text": [
            "Welcome to Python Programming\n"
          ]
        }
      ]
    },
    {
      "cell_type": "code",
      "metadata": {
        "colab": {
          "base_uri": "https://localhost:8080/"
        },
        "id": "Nrynzy-EkztD",
        "outputId": "5780f1d3-bbb1-49bb-9589-d79d1d071067"
      },
      "source": [
        "b='Sally'\n",
        "print (b)"
      ],
      "execution_count": 6,
      "outputs": [
        {
          "output_type": "stream",
          "name": "stdout",
          "text": [
            "Sally\n"
          ]
        }
      ]
    },
    {
      "cell_type": "code",
      "metadata": {
        "colab": {
          "base_uri": "https://localhost:8080/"
        },
        "id": "Ai2Lb8QwlJ6N",
        "outputId": "393877ce-62c3-4fe5-d41d-fd2743a791b2"
      },
      "source": [
        "b=int(4)\n",
        "print (b)"
      ],
      "execution_count": 7,
      "outputs": [
        {
          "output_type": "stream",
          "name": "stdout",
          "text": [
            "4\n"
          ]
        }
      ]
    },
    {
      "cell_type": "code",
      "metadata": {
        "colab": {
          "base_uri": "https://localhost:8080/"
        },
        "id": "43KwxW9flxon",
        "outputId": "370d84e5-ee23-4764-eb57-d1935b6e95d8"
      },
      "source": [
        "x=5\n",
        "y=(\"John\")\n",
        "print(type(y))"
      ],
      "execution_count": 11,
      "outputs": [
        {
          "output_type": "stream",
          "name": "stdout",
          "text": [
            "<class 'str'>\n"
          ]
        }
      ]
    },
    {
      "cell_type": "code",
      "metadata": {
        "colab": {
          "base_uri": "https://localhost:8080/"
        },
        "id": "jmh5RVcZmZAa",
        "outputId": "10df2e1b-62ca-482f-e421-110557f2c3f7"
      },
      "source": [
        "a=4\n",
        "A=\"Sally\"\n",
        "#A will not overwrite a\n",
        "print (A)"
      ],
      "execution_count": 13,
      "outputs": [
        {
          "output_type": "stream",
          "name": "stdout",
          "text": [
            "Sally\n"
          ]
        }
      ]
    },
    {
      "cell_type": "code",
      "metadata": {
        "colab": {
          "base_uri": "https://localhost:8080/"
        },
        "id": "BhiZp-pJmwfz",
        "outputId": "269200e0-4f5e-46a3-fba1-cd8442d61c8e"
      },
      "source": [
        "x,y,z=\"one\",\"two\",\"three\"\n",
        "print (z)\n",
        "print (y)\n",
        "print (x)\n",
        "       \n",
        "      "
      ],
      "execution_count": 15,
      "outputs": [
        {
          "output_type": "stream",
          "name": "stdout",
          "text": [
            "three\n",
            "two\n",
            "one\n"
          ]
        }
      ]
    },
    {
      "cell_type": "code",
      "metadata": {
        "colab": {
          "base_uri": "https://localhost:8080/"
        },
        "id": "FoyvinBanFb5",
        "outputId": "355b3d81-82da-458e-d24a-eb6a05750895"
      },
      "source": [
        "x=y=z=\"Four\"\n",
        "print (x)\n",
        "print(y)\n",
        "print (z)"
      ],
      "execution_count": 17,
      "outputs": [
        {
          "output_type": "stream",
          "name": "stdout",
          "text": [
            "Four\n",
            "Four\n",
            "Four\n"
          ]
        }
      ]
    },
    {
      "cell_type": "code",
      "metadata": {
        "colab": {
          "base_uri": "https://localhost:8080/"
        },
        "id": "y8rv-CbiniF5",
        "outputId": "c4edc1b9-0c3f-4734-b2f7-af6a86b0c18c"
      },
      "source": [
        "x='enjoying'\n",
        "print (\"Python programming is \"+ x)"
      ],
      "execution_count": 23,
      "outputs": [
        {
          "output_type": "stream",
          "name": "stdout",
          "text": [
            "Python programming is enjoying\n"
          ]
        }
      ]
    },
    {
      "cell_type": "code",
      "metadata": {
        "colab": {
          "base_uri": "https://localhost:8080/"
        },
        "id": "IXIcd80roiCq",
        "outputId": "688abb4b-64d4-462f-e5ce-493d5338e5e2"
      },
      "source": [
        "x=\"Python programming is\"\n",
        "y=\" enjoying\"\n",
        "print (x+y)"
      ],
      "execution_count": 25,
      "outputs": [
        {
          "output_type": "stream",
          "name": "stdout",
          "text": [
            "Python programming is enjoying\n"
          ]
        }
      ]
    },
    {
      "cell_type": "code",
      "metadata": {
        "colab": {
          "base_uri": "https://localhost:8080/"
        },
        "id": "UQvBsrC4o8Ff",
        "outputId": "ece9dea5-acf4-4916-d085-ada7e32f8c2a"
      },
      "source": [
        "x=5\n",
        "y=3\n",
        "sum=x+y\n",
        "print(sum)"
      ],
      "execution_count": 26,
      "outputs": [
        {
          "output_type": "stream",
          "name": "stdout",
          "text": [
            "8\n"
          ]
        }
      ]
    },
    {
      "cell_type": "code",
      "metadata": {
        "colab": {
          "base_uri": "https://localhost:8080/"
        },
        "id": "YmrK0IaIpRm2",
        "outputId": "088c9a67-2a80-417b-c70e-4be303a78077"
      },
      "source": [
        "a,b,c=0,-1,8\n",
        "c%=3\n",
        "print (c)"
      ],
      "execution_count": 31,
      "outputs": [
        {
          "output_type": "stream",
          "name": "stdout",
          "text": [
            "2\n"
          ]
        }
      ]
    },
    {
      "cell_type": "code",
      "metadata": {
        "colab": {
          "base_uri": "https://localhost:8080/"
        },
        "id": "uyxGG_S-qFHg",
        "outputId": "c1d98468-7fb6-4cc6-ed10-dbb6b880f278"
      },
      "source": [
        "x=5\n",
        "x<6 and x<10"
      ],
      "execution_count": 33,
      "outputs": [
        {
          "output_type": "execute_result",
          "data": {
            "text/plain": [
              "True"
            ]
          },
          "metadata": {},
          "execution_count": 33
        }
      ]
    },
    {
      "cell_type": "code",
      "metadata": {
        "colab": {
          "base_uri": "https://localhost:8080/"
        },
        "id": "ir8dpMzzqfsh",
        "outputId": "a013e72e-fed7-49c8-cfd8-e0f867c356d1"
      },
      "source": [
        "y=6\n",
        "z=7\n",
        "y is not z"
      ],
      "execution_count": 38,
      "outputs": [
        {
          "output_type": "execute_result",
          "data": {
            "text/plain": [
              "True"
            ]
          },
          "metadata": {},
          "execution_count": 38
        }
      ]
    }
  ]
}