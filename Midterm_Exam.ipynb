{
  "nbformat": 4,
  "nbformat_minor": 0,
  "metadata": {
    "colab": {
      "name": "Midterm Exam",
      "provenance": [],
      "authorship_tag": "ABX9TyP6kZ8wAKXfBtR5PvMpiCJb",
      "include_colab_link": true
    },
    "kernelspec": {
      "name": "python3",
      "display_name": "Python 3"
    },
    "language_info": {
      "name": "python"
    }
  },
  "cells": [
    {
      "cell_type": "markdown",
      "metadata": {
        "id": "view-in-github",
        "colab_type": "text"
      },
      "source": [
        "<a href=\"https://colab.research.google.com/github/aymm51/CPEN-21A-ECE-2-2/blob/main/Midterm_Exam.ipynb\" target=\"_parent\"><img src=\"https://colab.research.google.com/assets/colab-badge.svg\" alt=\"Open In Colab\"/></a>"
      ]
    },
    {
      "cell_type": "markdown",
      "metadata": {
        "id": "9WQVLicLtWO6"
      },
      "source": [
        "##PROBLEM STATEMENT 1"
      ]
    },
    {
      "cell_type": "code",
      "metadata": {
        "colab": {
          "base_uri": "https://localhost:8080/"
        },
        "id": "i8l1clzstlVk",
        "outputId": "212f6ac8-d331-4f95-ec65-6dc8d7b2e9dc"
      },
      "source": [
        "y= 'Ayessa Yanicka M. Marasigan'\n",
        "print (\"a. \"+ y)\n",
        "\n",
        "z= 'b. '\n",
        "a='20'\n",
        "b='11'\n",
        "c='268'\n",
        "print (z + a + a + b + c)\n",
        "\n",
        "p='c. '\n",
        "q='19'\n",
        "print (p + q)\n",
        "\n",
        "print(\"d. May 1, 2002\")\n",
        "\n",
        "print (\"e. Brgy. Francisco, Tagaytay City\")\n",
        "\n",
        "print (\"f. Bachelor of Science in Electronics Engineering\")\n",
        "\n",
        "print (\"g. 1.41\")"
      ],
      "execution_count": 25,
      "outputs": [
        {
          "output_type": "stream",
          "name": "stdout",
          "text": [
            "a. Ayessa Yanicka M. Marasigan\n",
            "b. 202011268\n",
            "c. 19\n",
            "d. May 1, 2002\n",
            "e. Brgy. Francisco, Tagaytay City\n",
            "f. Bachelor of Science in Electronics Engineering\n",
            "g. 1.41\n"
          ]
        }
      ]
    },
    {
      "cell_type": "markdown",
      "metadata": {
        "id": "Otb1FJE3xx2M"
      },
      "source": [
        "##PROBLEM STATEMENT 2"
      ]
    },
    {
      "cell_type": "code",
      "metadata": {
        "colab": {
          "base_uri": "https://localhost:8080/"
        },
        "id": "bwgnx_5fx2Nt",
        "outputId": "fcb9835b-5b2b-46ce-88ff-66b0bad08c3a"
      },
      "source": [
        "print (2<4 and 4<6)\n",
        "print (2<4 or 4==6)\n",
        "print (not 2<4 or 4==6)\n",
        "print (not 4<6)\n",
        "print (\"Y\"==\"Y\" or \"Y\"==\"y\")\n",
        "print (\"Y\"==\"Y\" and \"Y\"==\"y\")\n",
        "print (not\"Y\"==\"y\")\n",
        "print ((2<4) and (4==5+1)) or (\"Y\"==\"No\")\n",
        "print ((4==2) and (4==7)) or (\"Y\"==\"Y\")\n",
        "print (4==2) and ((4==7) or (\"Y\"==\"Y\"))\n",
        "\n"
      ],
      "execution_count": 88,
      "outputs": [
        {
          "output_type": "stream",
          "name": "stdout",
          "text": [
            "True\n",
            "True\n",
            "False\n",
            "False\n",
            "True\n",
            "False\n",
            "True\n",
            "False\n",
            "False\n",
            "False\n"
          ]
        }
      ]
    },
    {
      "cell_type": "markdown",
      "metadata": {
        "id": "NeR3VznL5MLd"
      },
      "source": [
        "##PROBLEM STATEMENT 3"
      ]
    },
    {
      "cell_type": "code",
      "metadata": {
        "colab": {
          "base_uri": "https://localhost:8080/"
        },
        "id": "ksuYGG4o5Qhq",
        "outputId": "6951df50-4678-4a4d-fe4e-bb77b04089ef"
      },
      "source": [
        "x=2\n",
        "y=-3\n",
        "w=7\n",
        "z=-10\n",
        "\n",
        "print(x/y)\n",
        "print(w/y/x)\n",
        "print(z/y%x) \n",
        "print(x%-y*w)\n",
        "print(x%y)\n",
        "print(z%w-y/x*5+5)\n",
        "print(9-x%(2+y))\n",
        "print(z//w)\n",
        "print((2+y)**2)\n",
        "print(w/x*2)"
      ],
      "execution_count": 86,
      "outputs": [
        {
          "output_type": "stream",
          "name": "stdout",
          "text": [
            "-0.6666666666666666\n",
            "-1.1666666666666667\n",
            "1.3333333333333335\n",
            "14\n",
            "-1\n",
            "16.5\n",
            "9\n",
            "-2\n",
            "1\n",
            "7.0\n"
          ]
        }
      ]
    }
  ]
}